{
 "cells": [
  {
   "cell_type": "code",
   "execution_count": 2,
   "metadata": {},
   "outputs": [],
   "source": [
    "## Pandas data types. The main types in Pandas include:\n",
    "\n",
    "# object\n",
    "# int64\n",
    "# float64\n",
    "# bool \n",
    "# datetime64\n",
    "# timedelta[ns]\n",
    "# category "
   ]
  },
  {
   "cell_type": "code",
   "execution_count": 19,
   "metadata": {},
   "outputs": [
    {
     "data": {
      "text/html": [
       "<div>\n",
       "<style scoped>\n",
       "    .dataframe tbody tr th:only-of-type {\n",
       "        vertical-align: middle;\n",
       "    }\n",
       "\n",
       "    .dataframe tbody tr th {\n",
       "        vertical-align: top;\n",
       "    }\n",
       "\n",
       "    .dataframe thead th {\n",
       "        text-align: right;\n",
       "    }\n",
       "</style>\n",
       "<table border=\"1\" class=\"dataframe\">\n",
       "  <thead>\n",
       "    <tr style=\"text-align: right;\">\n",
       "      <th></th>\n",
       "      <th>Area Code</th>\n",
       "      <th>Area</th>\n",
       "      <th>Months Code</th>\n",
       "      <th>Months</th>\n",
       "      <th>Element Code</th>\n",
       "      <th>Element</th>\n",
       "      <th>Unit</th>\n",
       "      <th>Y1961</th>\n",
       "      <th>Y1962</th>\n",
       "      <th>Y1963</th>\n",
       "      <th>...</th>\n",
       "      <th>Y2010</th>\n",
       "      <th>Y2011</th>\n",
       "      <th>Y2012</th>\n",
       "      <th>Y2013</th>\n",
       "      <th>Y2014</th>\n",
       "      <th>Y2015</th>\n",
       "      <th>Y2016</th>\n",
       "      <th>Y2017</th>\n",
       "      <th>Y2018</th>\n",
       "      <th>Y2019</th>\n",
       "    </tr>\n",
       "  </thead>\n",
       "  <tbody>\n",
       "    <tr>\n",
       "      <th>0</th>\n",
       "      <td>2</td>\n",
       "      <td>Afghanistan</td>\n",
       "      <td>7001</td>\n",
       "      <td>January</td>\n",
       "      <td>7271</td>\n",
       "      <td>Temperature change</td>\n",
       "      <td>Celsius</td>\n",
       "      <td>0.777</td>\n",
       "      <td>0.062</td>\n",
       "      <td>2.744</td>\n",
       "      <td>...</td>\n",
       "      <td>3.601</td>\n",
       "      <td>1.179</td>\n",
       "      <td>-0.583</td>\n",
       "      <td>1.233</td>\n",
       "      <td>1.755</td>\n",
       "      <td>1.943</td>\n",
       "      <td>3.416</td>\n",
       "      <td>1.201</td>\n",
       "      <td>1.996</td>\n",
       "      <td>2.951</td>\n",
       "    </tr>\n",
       "    <tr>\n",
       "      <th>1</th>\n",
       "      <td>2</td>\n",
       "      <td>Afghanistan</td>\n",
       "      <td>7001</td>\n",
       "      <td>January</td>\n",
       "      <td>6078</td>\n",
       "      <td>Standard Deviation</td>\n",
       "      <td>Celsius</td>\n",
       "      <td>1.950</td>\n",
       "      <td>1.950</td>\n",
       "      <td>1.950</td>\n",
       "      <td>...</td>\n",
       "      <td>1.950</td>\n",
       "      <td>1.950</td>\n",
       "      <td>1.950</td>\n",
       "      <td>1.950</td>\n",
       "      <td>1.950</td>\n",
       "      <td>1.950</td>\n",
       "      <td>1.950</td>\n",
       "      <td>1.950</td>\n",
       "      <td>1.950</td>\n",
       "      <td>1.950</td>\n",
       "    </tr>\n",
       "    <tr>\n",
       "      <th>2</th>\n",
       "      <td>2</td>\n",
       "      <td>Afghanistan</td>\n",
       "      <td>7002</td>\n",
       "      <td>February</td>\n",
       "      <td>7271</td>\n",
       "      <td>Temperature change</td>\n",
       "      <td>Celsius</td>\n",
       "      <td>-1.743</td>\n",
       "      <td>2.465</td>\n",
       "      <td>3.919</td>\n",
       "      <td>...</td>\n",
       "      <td>1.212</td>\n",
       "      <td>0.321</td>\n",
       "      <td>-3.201</td>\n",
       "      <td>1.494</td>\n",
       "      <td>-3.187</td>\n",
       "      <td>2.699</td>\n",
       "      <td>2.251</td>\n",
       "      <td>-0.323</td>\n",
       "      <td>2.705</td>\n",
       "      <td>0.086</td>\n",
       "    </tr>\n",
       "    <tr>\n",
       "      <th>3</th>\n",
       "      <td>2</td>\n",
       "      <td>Afghanistan</td>\n",
       "      <td>7002</td>\n",
       "      <td>February</td>\n",
       "      <td>6078</td>\n",
       "      <td>Standard Deviation</td>\n",
       "      <td>Celsius</td>\n",
       "      <td>2.597</td>\n",
       "      <td>2.597</td>\n",
       "      <td>2.597</td>\n",
       "      <td>...</td>\n",
       "      <td>2.597</td>\n",
       "      <td>2.597</td>\n",
       "      <td>2.597</td>\n",
       "      <td>2.597</td>\n",
       "      <td>2.597</td>\n",
       "      <td>2.597</td>\n",
       "      <td>2.597</td>\n",
       "      <td>2.597</td>\n",
       "      <td>2.597</td>\n",
       "      <td>2.597</td>\n",
       "    </tr>\n",
       "    <tr>\n",
       "      <th>4</th>\n",
       "      <td>2</td>\n",
       "      <td>Afghanistan</td>\n",
       "      <td>7003</td>\n",
       "      <td>March</td>\n",
       "      <td>7271</td>\n",
       "      <td>Temperature change</td>\n",
       "      <td>Celsius</td>\n",
       "      <td>0.516</td>\n",
       "      <td>1.336</td>\n",
       "      <td>0.403</td>\n",
       "      <td>...</td>\n",
       "      <td>3.390</td>\n",
       "      <td>0.748</td>\n",
       "      <td>-0.527</td>\n",
       "      <td>2.246</td>\n",
       "      <td>-0.076</td>\n",
       "      <td>-0.497</td>\n",
       "      <td>2.296</td>\n",
       "      <td>0.834</td>\n",
       "      <td>4.418</td>\n",
       "      <td>0.234</td>\n",
       "    </tr>\n",
       "  </tbody>\n",
       "</table>\n",
       "<p>5 rows × 66 columns</p>\n",
       "</div>"
      ],
      "text/plain": [
       "   Area Code         Area  Months Code    Months  Element Code  \\\n",
       "0          2  Afghanistan         7001   January          7271   \n",
       "1          2  Afghanistan         7001   January          6078   \n",
       "2          2  Afghanistan         7002  February          7271   \n",
       "3          2  Afghanistan         7002  February          6078   \n",
       "4          2  Afghanistan         7003     March          7271   \n",
       "\n",
       "              Element     Unit  Y1961  Y1962  Y1963  ...  Y2010  Y2011  Y2012  \\\n",
       "0  Temperature change  Celsius  0.777  0.062  2.744  ...  3.601  1.179 -0.583   \n",
       "1  Standard Deviation  Celsius  1.950  1.950  1.950  ...  1.950  1.950  1.950   \n",
       "2  Temperature change  Celsius -1.743  2.465  3.919  ...  1.212  0.321 -3.201   \n",
       "3  Standard Deviation  Celsius  2.597  2.597  2.597  ...  2.597  2.597  2.597   \n",
       "4  Temperature change  Celsius  0.516  1.336  0.403  ...  3.390  0.748 -0.527   \n",
       "\n",
       "   Y2013  Y2014  Y2015  Y2016  Y2017  Y2018  Y2019  \n",
       "0  1.233  1.755  1.943  3.416  1.201  1.996  2.951  \n",
       "1  1.950  1.950  1.950  1.950  1.950  1.950  1.950  \n",
       "2  1.494 -3.187  2.699  2.251 -0.323  2.705  0.086  \n",
       "3  2.597  2.597  2.597  2.597  2.597  2.597  2.597  \n",
       "4  2.246 -0.076 -0.497  2.296  0.834  4.418  0.234  \n",
       "\n",
       "[5 rows x 66 columns]"
      ]
     },
     "execution_count": 19,
     "metadata": {},
     "output_type": "execute_result"
    }
   ],
   "source": [
    "# Import dependencies \n",
    "\n",
    "import pandas as pd\n",
    "\n",
    "# Read CSV file, set encoding to cp1252 due to UnicodeDecodeError\n",
    "\n",
    "DataFrame = pd.read_csv('Desktop/climate/temp.csv', encoding='cp1252')\n",
    "\n",
    "DataFrame.head()"
   ]
  },
  {
   "cell_type": "code",
   "execution_count": 21,
   "metadata": {},
   "outputs": [],
   "source": [
    "## object\n",
    "\n",
    "# An object stores mixed types, objects can hold any Python object, including strings "
   ]
  },
  {
   "cell_type": "code",
   "execution_count": 44,
   "metadata": {},
   "outputs": [
    {
     "data": {
      "text/plain": [
       "Element Code    int64\n",
       "Months Code     int64\n",
       "Area Code       int64\n",
       "dtype: object"
      ]
     },
     "execution_count": 44,
     "metadata": {},
     "output_type": "execute_result"
    }
   ],
   "source": [
    "## int64\n",
    "\n",
    "# An int64 (Integer) stores zero, negative or positive whole numbers without a fractional part & ultimate precision\n",
    "\n",
    "# Examples of int64 types within the dataset include the Element Code, Months Code & Area Code \n",
    "\n",
    "# The 3 int64 columns are assigned to a new DataFrame object named integerDataFrame\n",
    "\n",
    "integerDataFrame = DataFrame.filter(['Element Code', 'Months Code','Area Code'], axis=1)\n",
    "\n",
    "# Check that each type is integer by using the dtype function. This will return the type for each column of the DataFrame object\n",
    "integerDataFrame.dtypes\n"
   ]
  },
  {
   "cell_type": "code",
   "execution_count": 48,
   "metadata": {},
   "outputs": [
    {
     "data": {
      "text/plain": [
       "Y1961    float64\n",
       "Y1981    float64\n",
       "Y2001    float64\n",
       "dtype: object"
      ]
     },
     "execution_count": 48,
     "metadata": {},
     "output_type": "execute_result"
    }
   ],
   "source": [
    "## float64\n",
    "\n",
    "# float64 types are numerical values with decimal places, such as 1.5 or 99.1\n",
    "\n",
    "# Within the dataset, examples of float64 types include the Year columns \n",
    "\n",
    "# The float columns are assigned to a new DataFrame object named floatDataFrame \n",
    "\n",
    "floatDataFrame = DataFrame.filter(['Y1961', 'Y1981','Y2001'], axis=1)\n",
    "\n",
    "# Check that each type is float64 by using the dtype function\n",
    "floatDataFrame.dtypes"
   ]
  },
  {
   "cell_type": "code",
   "execution_count": 58,
   "metadata": {},
   "outputs": [
    {
     "data": {
      "text/plain": [
       "Bool Data Type    bool\n",
       "dtype: object"
      ]
     },
     "execution_count": 58,
     "metadata": {},
     "output_type": "execute_result"
    }
   ],
   "source": [
    "## bool\n",
    "\n",
    "# bool or boolean types hold TRUE or FALSE values \n",
    "\n",
    "# boolean logical tests can be applied to datasets, returning either TRUE or FALSE\n",
    "\n",
    "# Below, a boolean logic test is applied to check whether Y1961 value is greater than or equal to Y1962\n",
    "# The results are assigned to a new DataFrame \n",
    "\n",
    "booleanDataFrame = pd.DataFrame({'Bool Data Type': DataFrame['Y1961'] >= DataFrame['Y1962']})\n",
    "\n",
    "# Check that type is bool by using the dtype function \n",
    "booleanDataFrame.dtypes"
   ]
  },
  {
   "cell_type": "code",
   "execution_count": 141,
   "metadata": {
    "scrolled": false
   },
   "outputs": [
    {
     "name": "stdout",
     "output_type": "stream",
     "text": [
      "Column Name    datetime64[ns]\n",
      "dtype: object   Column Name\n",
      "0  1961-01-01\n",
      "1  1962-01-01\n",
      "2  1963-01-01\n",
      "3  1964-01-01\n",
      "4  1965-01-01\n"
     ]
    }
   ],
   "source": [
    "## datetime64\n",
    "\n",
    "# datetime64 holds date types in several formats, it enables easier data manipulation for time series data \n",
    "\n",
    "# Import datetime dependency\n",
    "\n",
    "from datetime import datetime\n",
    "\n",
    "# Create an empty list to hold \n",
    "\n",
    "columns = []\n",
    "\n",
    "# Iterate through each DataFrame column\n",
    "\n",
    "for col in DataFrame:\n",
    "    \n",
    "    # Apply condition if Column begins with Y\n",
    "    if col[0] == \"Y\":\n",
    "        \n",
    "        # Append the column values that begin with Y to empty list, removing first value by using [1:]\n",
    "           columns.append(col[1:])\n",
    "\n",
    "# Create DataFrame for the cleansed column names \n",
    "columnsDataFrame = pd.DataFrame({'Column Name': columns})\n",
    "\n",
    "# Convert Column Name to datetime type. At this stage, the date format should match the date format of the data \n",
    "columnsDataFrame['Column Name'] = pd.to_datetime(columnsDataFrame['Column Name'], format='%Y')\n",
    "\n",
    "# Print result\n",
    "print(columnsDataFrame.dtypes, columnsDataFrame.head())"
   ]
  },
  {
   "cell_type": "code",
   "execution_count": 164,
   "metadata": {},
   "outputs": [
    {
     "name": "stdout",
     "output_type": "stream",
     "text": [
      "Column Name   1961-01-01\n",
      "Name: 0, dtype: datetime64[ns] Column Name   1962-01-01\n",
      "Name: 1, dtype: datetime64[ns] Column Name   365 days\n",
      "dtype: timedelta64[ns]\n"
     ]
    }
   ],
   "source": [
    "## timedelta[ns]\n",
    "\n",
    "# timedelta stores the delta between two datetime types \n",
    "\n",
    "# Assign two rows of columnsDataFrame to x & y variables for timedelta calculation \n",
    "# iloc method applied to select rows based on their index position \n",
    "x = columnsDataFrame.iloc[0]\n",
    "y = columnsDataFrame.iloc[1]\n",
    "\n",
    "\n",
    "# Calculate the delta between the two variables and assign to timeDelta variable  \n",
    "timeDelta = y - x\n",
    "\n",
    "# Print result (365 days between 01-01-1961 (x variable) and 01-01-1962 (y variable))\n",
    "print(x, y, timeDelta)"
   ]
  },
  {
   "cell_type": "code",
   "execution_count": 84,
   "metadata": {},
   "outputs": [],
   "source": [
    "## category \n",
    "\n",
    "categoryDataFrame = DataFrame['Area'].astype('category')"
   ]
  },
  {
   "cell_type": "code",
   "execution_count": null,
   "metadata": {},
   "outputs": [],
   "source": [
    "# dtypes Pandas function "
   ]
  },
  {
   "cell_type": "code",
   "execution_count": null,
   "metadata": {},
   "outputs": [],
   "source": [
    "# Converting data types \n",
    "\n"
   ]
  }
 ],
 "metadata": {
  "kernelspec": {
   "display_name": "Python 3",
   "language": "python",
   "name": "python3"
  },
  "language_info": {
   "codemirror_mode": {
    "name": "ipython",
    "version": 3
   },
   "file_extension": ".py",
   "mimetype": "text/x-python",
   "name": "python",
   "nbconvert_exporter": "python",
   "pygments_lexer": "ipython3",
   "version": "3.8.5"
  }
 },
 "nbformat": 4,
 "nbformat_minor": 4
}
